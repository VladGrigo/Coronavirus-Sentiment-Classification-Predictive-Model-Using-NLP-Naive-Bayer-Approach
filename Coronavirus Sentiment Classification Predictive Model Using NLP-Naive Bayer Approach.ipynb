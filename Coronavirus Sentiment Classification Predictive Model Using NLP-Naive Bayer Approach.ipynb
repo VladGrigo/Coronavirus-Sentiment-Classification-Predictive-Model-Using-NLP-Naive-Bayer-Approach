{
 "cells": [
  {
   "cell_type": "markdown",
   "id": "8cc9e9c5",
   "metadata": {},
   "source": [
    "# Coronavirus Sentiment Classification Predictive Model Using NLP-Naive Bayer Approach"
   ]
  },
  {
   "cell_type": "markdown",
   "id": "6fbc91a6",
   "metadata": {},
   "source": [
    "# Importing main libraries and Data"
   ]
  },
  {
   "cell_type": "code",
   "execution_count": 1,
   "id": "142e205b",
   "metadata": {},
   "outputs": [],
   "source": [
    "import pandas as pd\n",
    "import seaborn as sns\n",
    "import matplotlib.pyplot as plt"
   ]
  },
  {
   "cell_type": "code",
   "execution_count": 81,
   "id": "37b78754",
   "metadata": {},
   "outputs": [],
   "source": [
    "corona_db= pd.read_csv(\"Corona_NLP_test.csv\")\n",
    "corona_db_test= pd.read_csv(\"Corona_NLP_test.csv\")"
   ]
  },
  {
   "cell_type": "code",
   "execution_count": 3,
   "id": "96803635",
   "metadata": {},
   "outputs": [
    {
     "data": {
      "text/html": [
       "<div>\n",
       "<style scoped>\n",
       "    .dataframe tbody tr th:only-of-type {\n",
       "        vertical-align: middle;\n",
       "    }\n",
       "\n",
       "    .dataframe tbody tr th {\n",
       "        vertical-align: top;\n",
       "    }\n",
       "\n",
       "    .dataframe thead th {\n",
       "        text-align: right;\n",
       "    }\n",
       "</style>\n",
       "<table border=\"1\" class=\"dataframe\">\n",
       "  <thead>\n",
       "    <tr style=\"text-align: right;\">\n",
       "      <th></th>\n",
       "      <th>UserName</th>\n",
       "      <th>ScreenName</th>\n",
       "      <th>Location</th>\n",
       "      <th>TweetAt</th>\n",
       "      <th>OriginalTweet</th>\n",
       "      <th>Sentiment</th>\n",
       "    </tr>\n",
       "  </thead>\n",
       "  <tbody>\n",
       "    <tr>\n",
       "      <th>0</th>\n",
       "      <td>1</td>\n",
       "      <td>44953</td>\n",
       "      <td>NYC</td>\n",
       "      <td>02-03-2020</td>\n",
       "      <td>TRENDING: New Yorkers encounter empty supermar...</td>\n",
       "      <td>Extremely Negative</td>\n",
       "    </tr>\n",
       "    <tr>\n",
       "      <th>1</th>\n",
       "      <td>2</td>\n",
       "      <td>44954</td>\n",
       "      <td>Seattle, WA</td>\n",
       "      <td>02-03-2020</td>\n",
       "      <td>When I couldn't find hand sanitizer at Fred Me...</td>\n",
       "      <td>Positive</td>\n",
       "    </tr>\n",
       "    <tr>\n",
       "      <th>2</th>\n",
       "      <td>3</td>\n",
       "      <td>44955</td>\n",
       "      <td>NaN</td>\n",
       "      <td>02-03-2020</td>\n",
       "      <td>Find out how you can protect yourself and love...</td>\n",
       "      <td>Extremely Positive</td>\n",
       "    </tr>\n",
       "    <tr>\n",
       "      <th>3</th>\n",
       "      <td>4</td>\n",
       "      <td>44956</td>\n",
       "      <td>Chicagoland</td>\n",
       "      <td>02-03-2020</td>\n",
       "      <td>#Panic buying hits #NewYork City as anxious sh...</td>\n",
       "      <td>Negative</td>\n",
       "    </tr>\n",
       "    <tr>\n",
       "      <th>4</th>\n",
       "      <td>5</td>\n",
       "      <td>44957</td>\n",
       "      <td>Melbourne, Victoria</td>\n",
       "      <td>03-03-2020</td>\n",
       "      <td>#toiletpaper #dunnypaper #coronavirus #coronav...</td>\n",
       "      <td>Neutral</td>\n",
       "    </tr>\n",
       "  </tbody>\n",
       "</table>\n",
       "</div>"
      ],
      "text/plain": [
       "   UserName  ScreenName             Location     TweetAt  \\\n",
       "0         1       44953                  NYC  02-03-2020   \n",
       "1         2       44954          Seattle, WA  02-03-2020   \n",
       "2         3       44955                  NaN  02-03-2020   \n",
       "3         4       44956          Chicagoland  02-03-2020   \n",
       "4         5       44957  Melbourne, Victoria  03-03-2020   \n",
       "\n",
       "                                       OriginalTweet           Sentiment  \n",
       "0  TRENDING: New Yorkers encounter empty supermar...  Extremely Negative  \n",
       "1  When I couldn't find hand sanitizer at Fred Me...            Positive  \n",
       "2  Find out how you can protect yourself and love...  Extremely Positive  \n",
       "3  #Panic buying hits #NewYork City as anxious sh...            Negative  \n",
       "4  #toiletpaper #dunnypaper #coronavirus #coronav...             Neutral  "
      ]
     },
     "execution_count": 3,
     "metadata": {},
     "output_type": "execute_result"
    }
   ],
   "source": [
    "corona_db.head()"
   ]
  },
  {
   "cell_type": "markdown",
   "id": "15dd1f33",
   "metadata": {},
   "source": [
    "## Exploratory Data Analysis\n",
    "\n",
    "Let's check out some of the stats with some plots and the built-in methods in pandas!"
   ]
  },
  {
   "cell_type": "code",
   "execution_count": 4,
   "id": "1c43ee0a",
   "metadata": {},
   "outputs": [
    {
     "data": {
      "text/plain": [
       "count                                                  3798\n",
       "unique                                                 3798\n",
       "top       #ITV #Vera opening scene a supermarket full of...\n",
       "freq                                                      1\n",
       "Name: OriginalTweet, dtype: object"
      ]
     },
     "execution_count": 4,
     "metadata": {},
     "output_type": "execute_result"
    }
   ],
   "source": [
    "corona_db[\"OriginalTweet\"].describe()"
   ]
  },
  {
   "cell_type": "code",
   "execution_count": 5,
   "id": "65cd8bfa",
   "metadata": {},
   "outputs": [
    {
     "data": {
      "text/html": [
       "<div>\n",
       "<style scoped>\n",
       "    .dataframe tbody tr th:only-of-type {\n",
       "        vertical-align: middle;\n",
       "    }\n",
       "\n",
       "    .dataframe tbody tr th {\n",
       "        vertical-align: top;\n",
       "    }\n",
       "\n",
       "    .dataframe thead tr th {\n",
       "        text-align: left;\n",
       "    }\n",
       "\n",
       "    .dataframe thead tr:last-of-type th {\n",
       "        text-align: right;\n",
       "    }\n",
       "</style>\n",
       "<table border=\"1\" class=\"dataframe\">\n",
       "  <thead>\n",
       "    <tr>\n",
       "      <th></th>\n",
       "      <th colspan=\"8\" halign=\"left\">UserName</th>\n",
       "      <th colspan=\"8\" halign=\"left\">ScreenName</th>\n",
       "    </tr>\n",
       "    <tr>\n",
       "      <th></th>\n",
       "      <th>count</th>\n",
       "      <th>mean</th>\n",
       "      <th>std</th>\n",
       "      <th>min</th>\n",
       "      <th>25%</th>\n",
       "      <th>50%</th>\n",
       "      <th>75%</th>\n",
       "      <th>max</th>\n",
       "      <th>count</th>\n",
       "      <th>mean</th>\n",
       "      <th>std</th>\n",
       "      <th>min</th>\n",
       "      <th>25%</th>\n",
       "      <th>50%</th>\n",
       "      <th>75%</th>\n",
       "      <th>max</th>\n",
       "    </tr>\n",
       "    <tr>\n",
       "      <th>Sentiment</th>\n",
       "      <th></th>\n",
       "      <th></th>\n",
       "      <th></th>\n",
       "      <th></th>\n",
       "      <th></th>\n",
       "      <th></th>\n",
       "      <th></th>\n",
       "      <th></th>\n",
       "      <th></th>\n",
       "      <th></th>\n",
       "      <th></th>\n",
       "      <th></th>\n",
       "      <th></th>\n",
       "      <th></th>\n",
       "      <th></th>\n",
       "      <th></th>\n",
       "    </tr>\n",
       "  </thead>\n",
       "  <tbody>\n",
       "    <tr>\n",
       "      <th>Extremely Negative</th>\n",
       "      <td>592.0</td>\n",
       "      <td>1949.851351</td>\n",
       "      <td>1082.538876</td>\n",
       "      <td>1.0</td>\n",
       "      <td>1016.75</td>\n",
       "      <td>1965.0</td>\n",
       "      <td>2890.75</td>\n",
       "      <td>3797.0</td>\n",
       "      <td>592.0</td>\n",
       "      <td>46901.851351</td>\n",
       "      <td>1082.538876</td>\n",
       "      <td>44953.0</td>\n",
       "      <td>45968.75</td>\n",
       "      <td>46917.0</td>\n",
       "      <td>47842.75</td>\n",
       "      <td>48749.0</td>\n",
       "    </tr>\n",
       "    <tr>\n",
       "      <th>Extremely Positive</th>\n",
       "      <td>599.0</td>\n",
       "      <td>1919.243740</td>\n",
       "      <td>1140.516710</td>\n",
       "      <td>3.0</td>\n",
       "      <td>895.50</td>\n",
       "      <td>1899.0</td>\n",
       "      <td>2978.50</td>\n",
       "      <td>3798.0</td>\n",
       "      <td>599.0</td>\n",
       "      <td>46871.243740</td>\n",
       "      <td>1140.516710</td>\n",
       "      <td>44955.0</td>\n",
       "      <td>45847.50</td>\n",
       "      <td>46851.0</td>\n",
       "      <td>47930.50</td>\n",
       "      <td>48750.0</td>\n",
       "    </tr>\n",
       "    <tr>\n",
       "      <th>Negative</th>\n",
       "      <td>1041.0</td>\n",
       "      <td>1828.076849</td>\n",
       "      <td>1081.735474</td>\n",
       "      <td>4.0</td>\n",
       "      <td>852.00</td>\n",
       "      <td>1819.0</td>\n",
       "      <td>2724.00</td>\n",
       "      <td>3795.0</td>\n",
       "      <td>1041.0</td>\n",
       "      <td>46780.076849</td>\n",
       "      <td>1081.735474</td>\n",
       "      <td>44956.0</td>\n",
       "      <td>45804.00</td>\n",
       "      <td>46771.0</td>\n",
       "      <td>47676.00</td>\n",
       "      <td>48747.0</td>\n",
       "    </tr>\n",
       "    <tr>\n",
       "      <th>Neutral</th>\n",
       "      <td>619.0</td>\n",
       "      <td>1939.915994</td>\n",
       "      <td>1107.057372</td>\n",
       "      <td>5.0</td>\n",
       "      <td>1014.50</td>\n",
       "      <td>1945.0</td>\n",
       "      <td>2927.50</td>\n",
       "      <td>3796.0</td>\n",
       "      <td>619.0</td>\n",
       "      <td>46891.915994</td>\n",
       "      <td>1107.057372</td>\n",
       "      <td>44957.0</td>\n",
       "      <td>45966.50</td>\n",
       "      <td>46897.0</td>\n",
       "      <td>47879.50</td>\n",
       "      <td>48748.0</td>\n",
       "    </tr>\n",
       "    <tr>\n",
       "      <th>Positive</th>\n",
       "      <td>947.0</td>\n",
       "      <td>1907.630412</td>\n",
       "      <td>1084.444727</td>\n",
       "      <td>2.0</td>\n",
       "      <td>998.50</td>\n",
       "      <td>1920.0</td>\n",
       "      <td>2829.50</td>\n",
       "      <td>3794.0</td>\n",
       "      <td>947.0</td>\n",
       "      <td>46859.630412</td>\n",
       "      <td>1084.444727</td>\n",
       "      <td>44954.0</td>\n",
       "      <td>45950.50</td>\n",
       "      <td>46872.0</td>\n",
       "      <td>47781.50</td>\n",
       "      <td>48746.0</td>\n",
       "    </tr>\n",
       "  </tbody>\n",
       "</table>\n",
       "</div>"
      ],
      "text/plain": [
       "                   UserName                                                  \\\n",
       "                      count         mean          std  min      25%     50%   \n",
       "Sentiment                                                                     \n",
       "Extremely Negative    592.0  1949.851351  1082.538876  1.0  1016.75  1965.0   \n",
       "Extremely Positive    599.0  1919.243740  1140.516710  3.0   895.50  1899.0   \n",
       "Negative             1041.0  1828.076849  1081.735474  4.0   852.00  1819.0   \n",
       "Neutral               619.0  1939.915994  1107.057372  5.0  1014.50  1945.0   \n",
       "Positive              947.0  1907.630412  1084.444727  2.0   998.50  1920.0   \n",
       "\n",
       "                                    ScreenName                             \\\n",
       "                        75%     max      count          mean          std   \n",
       "Sentiment                                                                   \n",
       "Extremely Negative  2890.75  3797.0      592.0  46901.851351  1082.538876   \n",
       "Extremely Positive  2978.50  3798.0      599.0  46871.243740  1140.516710   \n",
       "Negative            2724.00  3795.0     1041.0  46780.076849  1081.735474   \n",
       "Neutral             2927.50  3796.0      619.0  46891.915994  1107.057372   \n",
       "Positive            2829.50  3794.0      947.0  46859.630412  1084.444727   \n",
       "\n",
       "                                                                   \n",
       "                        min       25%      50%       75%      max  \n",
       "Sentiment                                                          \n",
       "Extremely Negative  44953.0  45968.75  46917.0  47842.75  48749.0  \n",
       "Extremely Positive  44955.0  45847.50  46851.0  47930.50  48750.0  \n",
       "Negative            44956.0  45804.00  46771.0  47676.00  48747.0  \n",
       "Neutral             44957.0  45966.50  46897.0  47879.50  48748.0  \n",
       "Positive            44954.0  45950.50  46872.0  47781.50  48746.0  "
      ]
     },
     "execution_count": 5,
     "metadata": {},
     "output_type": "execute_result"
    }
   ],
   "source": [
    "corona_db.groupby(\"Sentiment\").describe()"
   ]
  },
  {
   "cell_type": "code",
   "execution_count": 6,
   "id": "eb4ed10f",
   "metadata": {},
   "outputs": [
    {
     "data": {
      "image/png": "[encoded data removed]",
      "text/plain": [
       "<Figure size 720x288 with 1 Axes>"
      ]
     },
     "metadata": {},
     "output_type": "display_data"
    }
   ],
   "source": [
    "sns.set_theme(style=\"darkgrid\")\n",
    "plt.figure(figsize=(10,4))\n",
    "ax = sns.countplot(x=\"Sentiment\", data=corona_db, order = corona_db['Sentiment'].value_counts().index)"
   ]
  },
  {
   "cell_type": "markdown",
   "id": "73b19f5e",
   "metadata": {},
   "source": [
    "At first sight, it seems that the data is well balanced, since it has a evenly distrubution of data points between each category"
   ]
  },
  {
   "cell_type": "code",
   "execution_count": 7,
   "id": "d0f11494",
   "metadata": {},
   "outputs": [
    {
     "data": {
      "text/plain": [
       "0    228\n",
       "1    193\n",
       "2     73\n",
       "3    318\n",
       "4    252\n",
       "Name: length, dtype: int64"
      ]
     },
     "execution_count": 7,
     "metadata": {},
     "output_type": "execute_result"
    }
   ],
   "source": [
    "corona_db['length'] = corona_db['OriginalTweet'].apply(len)\n",
    "corona_db['length'].head()"
   ]
  },
  {
   "cell_type": "code",
   "execution_count": 8,
   "id": "695a85bd",
   "metadata": {},
   "outputs": [
    {
     "data": {
      "text/plain": [
       "<AxesSubplot:xlabel='length', ylabel='Count'>"
      ]
     },
     "execution_count": 8,
     "metadata": {},
     "output_type": "execute_result"
    },
    {
     "data": {
      "image/png": "[encoded data removed]",
      "text/plain": [
       "<Figure size 432x288 with 1 Axes>"
      ]
     },
     "metadata": {},
     "output_type": "display_data"
    }
   ],
   "source": [
    "sns.histplot(data=corona_db, x=\"length\")"
   ]
  },
  {
   "cell_type": "markdown",
   "id": "6d890475",
   "metadata": {},
   "source": [
    "The majority of the coronavirus related tweets seems to be concentrated below the 300 words limit. On the other hand, there are some cases that surpasses that limit"
   ]
  },
  {
   "cell_type": "code",
   "execution_count": 9,
   "id": "137818bc",
   "metadata": {},
   "outputs": [
    {
     "data": {
      "text/plain": [
       "array([[<AxesSubplot:title={'center':'Extremely Negative'}>,\n",
       "        <AxesSubplot:title={'center':'Extremely Positive'}>],\n",
       "       [<AxesSubplot:title={'center':'Negative'}>,\n",
       "        <AxesSubplot:title={'center':'Neutral'}>],\n",
       "       [<AxesSubplot:title={'center':'Positive'}>, <AxesSubplot:>]],\n",
       "      dtype=object)"
      ]
     },
     "execution_count": 9,
     "metadata": {},
     "output_type": "execute_result"
    },
    {
     "data": {
      "image/png": "[encoded data removed]",
      "text/plain": [
       "<Figure size 864x720 with 6 Axes>"
      ]
     },
     "metadata": {},
     "output_type": "display_data"
    }
   ],
   "source": [
    "corona_db.hist(column='length', by='Sentiment', bins=50,figsize=(12,10))"
   ]
  },
  {
   "cell_type": "markdown",
   "id": "e0fb1ac1",
   "metadata": {},
   "source": [
    "Extremely negative, negative, positive and extremely positive tweets tend to be written using between 250 and 300 words. Neutral tweets, however, tend to be more shorter ranging between 100 and 200 words in average. "
   ]
  },
  {
   "cell_type": "markdown",
   "id": "a1c86c23",
   "metadata": {},
   "source": [
    "## Text Pre-processing"
   ]
  },
  {
   "cell_type": "code",
   "execution_count": 39,
   "id": "e5f86656",
   "metadata": {},
   "outputs": [],
   "source": [
    "import nltk \n",
    "import string"
   ]
  },
  {
   "cell_type": "markdown",
   "id": "73233eca",
   "metadata": {},
   "source": [
    "Tokenize Sentences and Removing Punctuation "
   ]
  },
  {
   "cell_type": "code",
   "execution_count": 12,
   "id": "b8f12404",
   "metadata": {},
   "outputs": [
    {
     "name": "stdout",
     "output_type": "stream",
     "text": [
      "['i', 'me', 'my', 'myself', 'we', 'our', 'ours', 'ourselves', 'you', \"you're\", \"you've\", \"you'll\", \"you'd\", 'your', 'yours', 'yourself', 'yourselves', 'he', 'him', 'his', 'himself', 'she', \"she's\", 'her', 'hers', 'herself', 'it', \"it's\", 'its', 'itself', 'they', 'them', 'their', 'theirs', 'themselves', 'what', 'which', 'who', 'whom', 'this', 'that', \"that'll\", 'these', 'those', 'am', 'is', 'are', 'was', 'were', 'be', 'been', 'being', 'have', 'has', 'had', 'having', 'do', 'does', 'did', 'doing', 'a', 'an', 'the', 'and', 'but', 'if', 'or', 'because', 'as', 'until', 'while', 'of', 'at', 'by', 'for', 'with', 'about', 'against', 'between', 'into', 'through', 'during', 'before', 'after', 'above', 'below', 'to', 'from', 'up', 'down', 'in', 'out', 'on', 'off', 'over', 'under', 'again', 'further', 'then', 'once', 'here', 'there', 'when', 'where', 'why', 'how', 'all', 'any', 'both', 'each', 'few', 'more', 'most', 'other', 'some', 'such', 'no', 'nor', 'not', 'only', 'own', 'same', 'so', 'than', 'too', 'very', 's', 't', 'can', 'will', 'just', 'don', \"don't\", 'should', \"should've\", 'now', 'd', 'll', 'm', 'o', 're', 've', 'y', 'ain', 'aren', \"aren't\", 'couldn', \"couldn't\", 'didn', \"didn't\", 'doesn', \"doesn't\", 'hadn', \"hadn't\", 'hasn', \"hasn't\", 'haven', \"haven't\", 'isn', \"isn't\", 'ma', 'mightn', \"mightn't\", 'mustn', \"mustn't\", 'needn', \"needn't\", 'shan', \"shan't\", 'shouldn', \"shouldn't\", 'wasn', \"wasn't\", 'weren', \"weren't\", 'won', \"won't\", 'wouldn', \"wouldn't\"]\n"
     ]
    },
    {
     "name": "stderr",
     "output_type": "stream",
     "text": [
      "[nltk_data] Downloading package stopwords to\n",
      "[nltk_data]     C:\\Users\\Usuario\\AppData\\Roaming\\nltk_data...\n",
      "[nltk_data]   Package stopwords is already up-to-date!\n"
     ]
    }
   ],
   "source": [
    "from nltk.corpus import stopwords\n",
    "nltk.download('stopwords')\n",
    "print(stopwords.words('english'))"
   ]
  },
  {
   "cell_type": "markdown",
   "id": "d9ebb301",
   "metadata": {},
   "source": [
    "We need to remove common words (stopwords from now on) used in English language that doesnt provide any predictive value if they are considered in the model. For that, we need to use the stopwords given by the nltk library"
   ]
  },
  {
   "cell_type": "code",
   "execution_count": 40,
   "id": "9a203343",
   "metadata": {},
   "outputs": [],
   "source": [
    "def removeStopWords(text):\n",
    "    \"\"\"\n",
    "    Takes in a string of text, then performs the following:\n",
    "    1. Remove all punctuation\n",
    "    2. Remove all stopwords\n",
    "    3. Returns a list of the cleaned text\n",
    "    \"\"\"\n",
    "    # Check characters to see if they are in punctuation\n",
    "    nopunc = [char for char in text if char not in string.punctuation]\n",
    "\n",
    "    # Join the characters again to form the string.\n",
    "    nopunc = ''.join(nopunc)\n",
    "    \n",
    "    # Now just remove any stopwords\n",
    "    return [word for word in nopunc.split() if word.lower() not in stopwords.words('english')]"
   ]
  },
  {
   "cell_type": "code",
   "execution_count": 82,
   "id": "b617c25f",
   "metadata": {},
   "outputs": [
    {
     "data": {
      "text/plain": [
       "0    [TRENDING, New, Yorkers, encounter, empty, sup...\n",
       "1    [couldnt, find, hand, sanitizer, Fred, Meyer, ...\n",
       "2            [Find, protect, loved, ones, coronavirus]\n",
       "3    [Panic, buying, hits, NewYork, City, anxious, ...\n",
       "4    [toiletpaper, dunnypaper, coronavirus, coronav...\n",
       "Name: OriginalTweet, dtype: object"
      ]
     },
     "execution_count": 82,
     "metadata": {},
     "output_type": "execute_result"
    }
   ],
   "source": [
    "corona_db[\"OriginalTweet\"].head(5).apply(removeStopWords)\n",
    "corona_db_test[\"OriginalTweet\"].head(5).apply(removeStopWords)"
   ]
  },
  {
   "cell_type": "markdown",
   "id": "1a6bb547",
   "metadata": {},
   "source": [
    "## Vectorization"
   ]
  },
  {
   "cell_type": "markdown",
   "id": "ba9de4f3",
   "metadata": {},
   "source": [
    "Now we'll convert each message, represented as a list of tokens (lemmas) above, into a vector that machine learning models can understand.\n",
    "\n",
    "We'll do that in three steps using the bag-of-words model:\n",
    "\n",
    "1. Count how many times does a word occur in each message (Known as term frequency)\n",
    "\n",
    "2. Weigh the counts, so that frequent tokens get lower weight (inverse document frequency)\n",
    "\n",
    "3. Normalize the vectors to unit length, to abstract from the original text length (L2 norm)\n",
    "\n",
    "Let's begin the first step:"
   ]
  },
  {
   "cell_type": "code",
   "execution_count": 15,
   "id": "b49d1a8a",
   "metadata": {},
   "outputs": [],
   "source": [
    "from sklearn.feature_extraction.text import CountVectorizer"
   ]
  },
  {
   "cell_type": "code",
   "execution_count": 16,
   "id": "6cf48945",
   "metadata": {},
   "outputs": [
    {
     "data": {
      "text/html": [
       "<div>\n",
       "<style scoped>\n",
       "    .dataframe tbody tr th:only-of-type {\n",
       "        vertical-align: middle;\n",
       "    }\n",
       "\n",
       "    .dataframe tbody tr th {\n",
       "        vertical-align: top;\n",
       "    }\n",
       "\n",
       "    .dataframe thead th {\n",
       "        text-align: right;\n",
       "    }\n",
       "</style>\n",
       "<table border=\"1\" class=\"dataframe\">\n",
       "  <thead>\n",
       "    <tr style=\"text-align: right;\">\n",
       "      <th></th>\n",
       "      <th>OriginalTweet</th>\n",
       "    </tr>\n",
       "  </thead>\n",
       "  <tbody>\n",
       "    <tr>\n",
       "      <th>0</th>\n",
       "      <td>[TRENDING, New, Yorkers, encounter, empty, sup...</td>\n",
       "    </tr>\n",
       "    <tr>\n",
       "      <th>1</th>\n",
       "      <td>[When, I, couldn, t, find, hand, sanitizer, at...</td>\n",
       "    </tr>\n",
       "    <tr>\n",
       "      <th>2</th>\n",
       "      <td>[Find, out, how, you, can, protect, yourself, ...</td>\n",
       "    </tr>\n",
       "    <tr>\n",
       "      <th>3</th>\n",
       "      <td>[Panic, buying, hits, NewYork, City, as, anxio...</td>\n",
       "    </tr>\n",
       "    <tr>\n",
       "      <th>4</th>\n",
       "      <td>[toiletpaper, dunnypaper, coronavirus, coronav...</td>\n",
       "    </tr>\n",
       "    <tr>\n",
       "      <th>...</th>\n",
       "      <td>...</td>\n",
       "    </tr>\n",
       "    <tr>\n",
       "      <th>3793</th>\n",
       "      <td>[Meanwhile, In, A, Supermarket, in, Israel, Pe...</td>\n",
       "    </tr>\n",
       "    <tr>\n",
       "      <th>3794</th>\n",
       "      <td>[Did, you, panic, buy, a, lot, of, non, perish...</td>\n",
       "    </tr>\n",
       "    <tr>\n",
       "      <th>3795</th>\n",
       "      <td>[Asst, Prof, of, Economics, cconces, was, on, ...</td>\n",
       "    </tr>\n",
       "    <tr>\n",
       "      <th>3796</th>\n",
       "      <td>[Gov, need, to, do, somethings, instead, of, b...</td>\n",
       "    </tr>\n",
       "    <tr>\n",
       "      <th>3797</th>\n",
       "      <td>[I, and, ForestandPaper, members, are, committ...</td>\n",
       "    </tr>\n",
       "  </tbody>\n",
       "</table>\n",
       "<p>3798 rows × 1 columns</p>\n",
       "</div>"
      ],
      "text/plain": [
       "                                          OriginalTweet\n",
       "0     [TRENDING, New, Yorkers, encounter, empty, sup...\n",
       "1     [When, I, couldn, t, find, hand, sanitizer, at...\n",
       "2     [Find, out, how, you, can, protect, yourself, ...\n",
       "3     [Panic, buying, hits, NewYork, City, as, anxio...\n",
       "4     [toiletpaper, dunnypaper, coronavirus, coronav...\n",
       "...                                                 ...\n",
       "3793  [Meanwhile, In, A, Supermarket, in, Israel, Pe...\n",
       "3794  [Did, you, panic, buy, a, lot, of, non, perish...\n",
       "3795  [Asst, Prof, of, Economics, cconces, was, on, ...\n",
       "3796  [Gov, need, to, do, somethings, instead, of, b...\n",
       "3797  [I, and, ForestandPaper, members, are, committ...\n",
       "\n",
       "[3798 rows x 1 columns]"
      ]
     },
     "execution_count": 16,
     "metadata": {},
     "output_type": "execute_result"
    }
   ],
   "source": [
    "tokenized_DataFrame= pd.DataFrame(tokenized)\n",
    "tokenized_DataFrame"
   ]
  },
  {
   "cell_type": "code",
   "execution_count": 24,
   "id": "098b0937",
   "metadata": {},
   "outputs": [
    {
     "data": {
      "text/html": [
       "<div>\n",
       "<style scoped>\n",
       "    .dataframe tbody tr th:only-of-type {\n",
       "        vertical-align: middle;\n",
       "    }\n",
       "\n",
       "    .dataframe tbody tr th {\n",
       "        vertical-align: top;\n",
       "    }\n",
       "\n",
       "    .dataframe thead th {\n",
       "        text-align: right;\n",
       "    }\n",
       "</style>\n",
       "<table border=\"1\" class=\"dataframe\">\n",
       "  <thead>\n",
       "    <tr style=\"text-align: right;\">\n",
       "      <th></th>\n",
       "      <th>OriginalTweet</th>\n",
       "      <th>Sentiment</th>\n",
       "    </tr>\n",
       "  </thead>\n",
       "  <tbody>\n",
       "    <tr>\n",
       "      <th>0</th>\n",
       "      <td>[TRENDING, New, Yorkers, encounter, empty, sup...</td>\n",
       "      <td>Extremely Negative</td>\n",
       "    </tr>\n",
       "    <tr>\n",
       "      <th>1</th>\n",
       "      <td>[When, I, couldn, t, find, hand, sanitizer, at...</td>\n",
       "      <td>Positive</td>\n",
       "    </tr>\n",
       "    <tr>\n",
       "      <th>2</th>\n",
       "      <td>[Find, out, how, you, can, protect, yourself, ...</td>\n",
       "      <td>Extremely Positive</td>\n",
       "    </tr>\n",
       "    <tr>\n",
       "      <th>3</th>\n",
       "      <td>[Panic, buying, hits, NewYork, City, as, anxio...</td>\n",
       "      <td>Negative</td>\n",
       "    </tr>\n",
       "    <tr>\n",
       "      <th>4</th>\n",
       "      <td>[toiletpaper, dunnypaper, coronavirus, coronav...</td>\n",
       "      <td>Neutral</td>\n",
       "    </tr>\n",
       "    <tr>\n",
       "      <th>...</th>\n",
       "      <td>...</td>\n",
       "      <td>...</td>\n",
       "    </tr>\n",
       "    <tr>\n",
       "      <th>3793</th>\n",
       "      <td>[Meanwhile, In, A, Supermarket, in, Israel, Pe...</td>\n",
       "      <td>Positive</td>\n",
       "    </tr>\n",
       "    <tr>\n",
       "      <th>3794</th>\n",
       "      <td>[Did, you, panic, buy, a, lot, of, non, perish...</td>\n",
       "      <td>Negative</td>\n",
       "    </tr>\n",
       "    <tr>\n",
       "      <th>3795</th>\n",
       "      <td>[Asst, Prof, of, Economics, cconces, was, on, ...</td>\n",
       "      <td>Neutral</td>\n",
       "    </tr>\n",
       "    <tr>\n",
       "      <th>3796</th>\n",
       "      <td>[Gov, need, to, do, somethings, instead, of, b...</td>\n",
       "      <td>Extremely Negative</td>\n",
       "    </tr>\n",
       "    <tr>\n",
       "      <th>3797</th>\n",
       "      <td>[I, and, ForestandPaper, members, are, committ...</td>\n",
       "      <td>Extremely Positive</td>\n",
       "    </tr>\n",
       "  </tbody>\n",
       "</table>\n",
       "<p>3798 rows × 2 columns</p>\n",
       "</div>"
      ],
      "text/plain": [
       "                                          OriginalTweet           Sentiment\n",
       "0     [TRENDING, New, Yorkers, encounter, empty, sup...  Extremely Negative\n",
       "1     [When, I, couldn, t, find, hand, sanitizer, at...            Positive\n",
       "2     [Find, out, how, you, can, protect, yourself, ...  Extremely Positive\n",
       "3     [Panic, buying, hits, NewYork, City, as, anxio...            Negative\n",
       "4     [toiletpaper, dunnypaper, coronavirus, coronav...             Neutral\n",
       "...                                                 ...                 ...\n",
       "3793  [Meanwhile, In, A, Supermarket, in, Israel, Pe...            Positive\n",
       "3794  [Did, you, panic, buy, a, lot, of, non, perish...            Negative\n",
       "3795  [Asst, Prof, of, Economics, cconces, was, on, ...             Neutral\n",
       "3796  [Gov, need, to, do, somethings, instead, of, b...  Extremely Negative\n",
       "3797  [I, and, ForestandPaper, members, are, committ...  Extremely Positive\n",
       "\n",
       "[3798 rows x 2 columns]"
      ]
     },
     "execution_count": 24,
     "metadata": {},
     "output_type": "execute_result"
    }
   ],
   "source": [
    "tokenized_db=pd.concat([tokenized_DataFrame,corona_db[\"Sentiment\"]], axis=1)\n",
    "tokenized_db"
   ]
  },
  {
   "cell_type": "code",
   "execution_count": 83,
   "id": "7778720e",
   "metadata": {},
   "outputs": [],
   "source": [
    "vect = CountVectorizer(analyzer=removeStopWords).fit(corona_db[\"OriginalTweet\"])\n",
    "vect_test = CountVectorizer(analyzer=removeStopWords).fit(corona_db_test[\"OriginalTweet\"])"
   ]
  },
  {
   "cell_type": "code",
   "execution_count": 84,
   "id": "7ec733cb",
   "metadata": {},
   "outputs": [],
   "source": [
    "vect_coronadb = vect.transform(corona_db[\"OriginalTweet\"])\n",
    "vect_coronadb_test = vect.transform(corona_db_test[\"OriginalTweet\"])"
   ]
  },
  {
   "cell_type": "code",
   "execution_count": 85,
   "id": "051ea347",
   "metadata": {},
   "outputs": [
    {
     "name": "stdout",
     "output_type": "stream",
     "text": [
      "Shape of Sparse Matrix:  (3798, 17027)\n",
      "Amount of Non-Zero occurences:  73632\n",
      "Shape of Sparse Matrix on Test:  (3798, 17027)\n",
      "Amount of Non-Zero occurences on Test:  73632\n"
     ]
    }
   ],
   "source": [
    "print('Shape of Sparse Matrix: ', vect_coronadb.shape)\n",
    "print('Amount of Non-Zero occurences: ', vect_coronadb.nnz)\n",
    "print('Shape of Sparse Matrix on Test: ', vect_coronadb_test.shape)\n",
    "print('Amount of Non-Zero occurences on Test: ', vect_coronadb_test.nnz)"
   ]
  },
  {
   "cell_type": "code",
   "execution_count": 86,
   "id": "e9822b15",
   "metadata": {},
   "outputs": [
    {
     "data": {
      "text/plain": [
       "<3798x17027 sparse matrix of type '<class 'numpy.int64'>'\n",
       "\twith 73632 stored elements in Compressed Sparse Row format>"
      ]
     },
     "execution_count": 86,
     "metadata": {},
     "output_type": "execute_result"
    }
   ],
   "source": [
    "vect_coronadb\n",
    "vect_coronadb_test"
   ]
  },
  {
   "cell_type": "markdown",
   "id": "ef030e42",
   "metadata": {},
   "source": [
    "###  TF-IDF Transformation"
   ]
  },
  {
   "cell_type": "markdown",
   "id": "b73f5c94",
   "metadata": {},
   "source": [
    "TF-IDF stands for *term frequency-inverse document frequency*, and the tf-idf weight is a weight often used in information retrieval and text mining. This weight is a statistical measure used to evaluate how important a word is to a document in a collection or corpus. The importance increases proportionally to the number of times a word appears in the document but is offset by the frequency of the word in the corpus. Variations of the tf-idf weighting scheme are often used by search engines as a central tool in scoring and ranking a document's relevance given a user query."
   ]
  },
  {
   "cell_type": "code",
   "execution_count": 87,
   "id": "6e35f429",
   "metadata": {},
   "outputs": [],
   "source": [
    "from sklearn.feature_extraction.text import TfidfTransformer\n",
    "\n",
    "tfidf_transformer = TfidfTransformer().fit(vect_coronadb)\n",
    "tfidf4_coronadb = tfidf_transformer.transform(vect_coronadb)\n",
    "tfidf4_coronadb_test = tfidf_transformer.transform(vect_coronadb_test)\n",
    "\n"
   ]
  },
  {
   "cell_type": "markdown",
   "id": "801c3d01",
   "metadata": {},
   "source": [
    "## Predicting (Without Pipeline)"
   ]
  },
  {
   "cell_type": "code",
   "execution_count": 92,
   "id": "3af2cf67",
   "metadata": {},
   "outputs": [],
   "source": [
    "from sklearn.naive_bayes import MultinomialNB\n",
    "from sklearn.metrics import confusion_matrix\n",
    "from sklearn.metrics import classification_report"
   ]
  },
  {
   "cell_type": "code",
   "execution_count": 90,
   "id": "3f29876c",
   "metadata": {},
   "outputs": [],
   "source": [
    "tweet_sentiment_detecter= MultinomialNB().fit(tfidf4_coronadb,corona_db[\"Sentiment\"])"
   ]
  },
  {
   "cell_type": "code",
   "execution_count": 97,
   "id": "6f812242",
   "metadata": {},
   "outputs": [
    {
     "name": "stdout",
     "output_type": "stream",
     "text": [
      "['Negative' 'Positive' 'Extremely Positive' 'Negative' 'Negative']\n",
      "0    Extremely Negative\n",
      "1              Positive\n",
      "2    Extremely Positive\n",
      "3              Negative\n",
      "4               Neutral\n",
      "Name: Sentiment, dtype: object\n"
     ]
    }
   ],
   "source": [
    "predictions= tweet_sentiment_detecter.predict(tfidf4_coronadb_test)\n",
    "print(predictions[0:5])\n",
    "print(corona_db[\"Sentiment\"][0:5])"
   ]
  },
  {
   "cell_type": "code",
   "execution_count": 94,
   "id": "fcefc534",
   "metadata": {},
   "outputs": [
    {
     "name": "stdout",
     "output_type": "stream",
     "text": [
      "                    precision    recall  f1-score   support\n",
      "\n",
      "Extremely Negative       1.00      0.24      0.38       592\n",
      "Extremely Positive       1.00      0.35      0.52       599\n",
      "          Negative       0.50      1.00      0.67      1041\n",
      "           Neutral       1.00      0.33      0.49       619\n",
      "          Positive       0.74      0.92      0.82       947\n",
      "\n",
      "          accuracy                           0.65      3798\n",
      "         macro avg       0.85      0.57      0.58      3798\n",
      "      weighted avg       0.80      0.65      0.61      3798\n",
      "\n"
     ]
    }
   ],
   "source": [
    "print(classification_report(corona_db[\"Sentiment\"], predictions))"
   ]
  },
  {
   "cell_type": "code",
   "execution_count": 95,
   "id": "4a2de47a",
   "metadata": {},
   "outputs": [
    {
     "name": "stdout",
     "output_type": "stream",
     "text": [
      "[[ 140    0    0    0    0]\n",
      " [   0  208    0    0    0]\n",
      " [ 414  204 1039  334   74]\n",
      " [   1    0    0  202    0]\n",
      " [  37  187    2   83  873]]\n"
     ]
    }
   ],
   "source": [
    "print(confusion_matrix(predictions,corona_db[\"Sentiment\"]))"
   ]
  },
  {
   "cell_type": "markdown",
   "id": "049fee19",
   "metadata": {},
   "source": [
    "## Predicting (With Pipeline)"
   ]
  },
  {
   "cell_type": "code",
   "execution_count": 71,
   "id": "a361822a",
   "metadata": {},
   "outputs": [],
   "source": [
    "from sklearn.naive_bayes import MultinomialNB\n",
    "from sklearn.metrics import confusion_matrix\n",
    "coronadb_test= pd.read_csv(\"Corona_NLP_test.csv\")"
   ]
  },
  {
   "cell_type": "code",
   "execution_count": 59,
   "id": "588e64e7",
   "metadata": {},
   "outputs": [],
   "source": [
    "from sklearn.pipeline import Pipeline\n",
    "\n",
    "pipeline = Pipeline([\n",
    "    ('bow', CountVectorizer(analyzer=removeStopWords)),  # strings to token integer counts\n",
    "    ('tfidf', TfidfTransformer()),  # integer counts to weighted TF-IDF scores\n",
    "    ('classifier', MultinomialNB()),  # train on TF-IDF vectors w/ Naive Bayes classifier\n",
    "])"
   ]
  },
  {
   "cell_type": "code",
   "execution_count": 67,
   "id": "8b82b3ba",
   "metadata": {},
   "outputs": [
    {
     "data": {
      "text/plain": [
       "Pipeline(steps=[('bow',\n",
       "                 CountVectorizer(analyzer=<function removeStopWords at 0x000001F9437E51F8>)),\n",
       "                ('tfidf', TfidfTransformer()),\n",
       "                ('classifier', MultinomialNB())])"
      ]
     },
     "execution_count": 67,
     "metadata": {},
     "output_type": "execute_result"
    }
   ],
   "source": [
    "pipeline.fit(corona_db[\"OriginalTweet\"],corona_db[\"Sentiment\"])"
   ]
  },
  {
   "cell_type": "code",
   "execution_count": 68,
   "id": "fa817832",
   "metadata": {},
   "outputs": [],
   "source": [
    "predictions = pipeline.predict(coronadb_test[\"OriginalTweet\"])"
   ]
  },
  {
   "cell_type": "code",
   "execution_count": 72,
   "id": "24909445",
   "metadata": {},
   "outputs": [
    {
     "name": "stdout",
     "output_type": "stream",
     "text": [
      "                    precision    recall  f1-score   support\n",
      "\n",
      "Extremely Negative       0.24      1.00      0.38       140\n",
      "Extremely Positive       0.35      1.00      0.52       208\n",
      "          Negative       1.00      0.50      0.67      2065\n",
      "           Neutral       0.33      1.00      0.49       203\n",
      "          Positive       0.92      0.74      0.82      1182\n",
      "\n",
      "          accuracy                           0.65      3798\n",
      "         macro avg       0.57      0.85      0.58      3798\n",
      "      weighted avg       0.87      0.65      0.69      3798\n",
      "\n"
     ]
    },
    {
     "data": {
      "text/plain": [
       "array([[ 140,    0,    0,    0,    0],\n",
       "       [   0,  208,    0,    0,    0],\n",
       "       [ 414,  204, 1039,  334,   74],\n",
       "       [   1,    0,    0,  202,    0],\n",
       "       [  37,  187,    2,   83,  873]], dtype=int64)"
      ]
     },
     "execution_count": 72,
     "metadata": {},
     "output_type": "execute_result"
    }
   ],
   "source": [
    "from sklearn.metrics import classification_report\n",
    "print(classification_report(predictions,coronadb_test[\"Sentiment\"]))\n",
    "confusion_matrix(predictions,coronadb_test[\"Sentiment\"])"
   ]
  },
  {
   "cell_type": "code",
   "execution_count": 73,
   "id": "aa4ddc4d",
   "metadata": {},
   "outputs": [
    {
     "data": {
      "text/plain": [
       "array(['Negative', 'Positive', 'Extremely Positive', ..., 'Neutral',\n",
       "       'Extremely Negative', 'Extremely Positive'], dtype='<U18')"
      ]
     },
     "execution_count": 73,
     "metadata": {},
     "output_type": "execute_result"
    }
   ],
   "source": [
    "predictions"
   ]
  },
  {
   "cell_type": "markdown",
   "id": "77c2760d",
   "metadata": {},
   "source": [
    "It seems that is a good but not excellent predictive model. Viewing the confusion matrix, it has some problems predicting negative tweets, maybe because it results difficult for the model to separate between extremely negative and negative tweets. "
   ]
  },
  {
   "cell_type": "code",
   "execution_count": null,
   "id": "febf65c2",
   "metadata": {},
   "outputs": [],
   "source": []
  }
 ],
 "metadata": {
  "kernelspec": {
   "display_name": "Python 3",
   "language": "python",
   "name": "python3"
  },
  "language_info": {
   "codemirror_mode": {
    "name": "ipython",
    "version": 3
   },
   "file_extension": ".py",
   "mimetype": "text/x-python",
   "name": "python",
   "nbconvert_exporter": "python",
   "pygments_lexer": "ipython3",
   "version": "3.7.10"
  }
 },
 "nbformat": 4,
 "nbformat_minor": 5
}
